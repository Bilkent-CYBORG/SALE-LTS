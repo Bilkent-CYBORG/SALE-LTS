{
 "cells": [
  {
   "cell_type": "code",
   "execution_count": null,
   "metadata": {},
   "outputs": [],
   "source": [
    "import numpy as np\n",
    "import pandas as pd\n",
    "import sys\n",
    "\n",
    "libpath = './../../bgl_model/'\n",
    "sys.path.append(libpath)\n",
    "\n",
    "from main_model import *"
   ]
  },
  {
   "cell_type": "code",
   "execution_count": null,
   "metadata": {},
   "outputs": [],
   "source": [
    "sigma_noise = 5  # noise std. dev.\n",
    "ins_ceiling = 45  # max. insulin dose \n",
    "ins_spacing = 0.1\n",
    "bg_omin = 70  # hypo boundary\n",
    "bg_omax = 180  # hyper boundary\n",
    "postbg_target = 112.5  # target dose\n",
    "\n",
    "global_tmi = 0.0  # we assume the patient takes the bolus dose with the meal\n",
    "target_tmbg = 150  # makes recommendations to optimize the PPBG after 150 mins from the meal\n",
    "\n",
    "num_all_train = 20  # num. of available training events per patient\n",
    "num_all_test = 20  # num. of available test events per patient\n",
    "\n",
    "all_patients = ['adult#002', 'adult#005', 'adult#007', 'adult#008', 'adult#010']\n",
    "\n",
    "clinician_recs = {'adult#002': [6.0, 4.5, 7.2, 2.7, 4.1, 5,6.5, 5.6, 5.4, 4.5, 12.2, 6.1, 11.9, 6.9, 2.7, 5.6, 6.8, 8.8, 6.8, 5.9],\n",
    "                  'adult#005': [2.9, 11.8, 17.3, 19.9, 15.8, 15.2, 8.8,15.4, 7.8, 3, 12.7, 12.2, 4.5, 11.9, 7.8, 10.9, 8.8,26.7, 9.8, 8.5],\n",
    "                  'adult#007': [1.4, 2.8, 3.6, 2.8, 3.2, 1.8, 0.9, 3.8, 3.2, 3.6, 6.3, 2.6, 2, 2.2, 1.7, 2.9, 1, 3.5, 3.4, 2.5],\n",
    "                  'adult#008': [2.7, 3.4, 2.4, 1.4, 4.3, 2.8, 2.2, 2.8, 2.2, 0.9, 1.1, 1.7, 3, 3, 0.7, 2.5, 4.4, 2.1, 5.5, 1.3,],\n",
    "                  'adult#010': [5.4, 17.8, 12.3, 13.6, 16.1, 12.2, 8.2, 10, 22.9, 24.8, 6.7, 33.1, 41.5, 6.7, 4.8, 14.5, 11.2, 15.9, 18.9, 9]}"
   ]
  },
  {
   "cell_type": "code",
   "execution_count": null,
   "metadata": {},
   "outputs": [],
   "source": [
    "def std_bolus_calc(cho, gm, gt, cr, cf, iob=None):\n",
    "    _iob = iob if iob else 0\n",
    "    return np.max([0, cho / cr + (gm - gt) / cf - _iob])"
   ]
  },
  {
   "cell_type": "code",
   "execution_count": null,
   "metadata": {},
   "outputs": [],
   "source": [
    "def create_model(data_init, ins_ceiling, postbg_target, bg_omin, bg_omax):\n",
    "    variables = [{'name': 'meal', 'domain': (20, 80), 'linearbounds':(0,9), 'unit': 'g'},\n",
    "                 {'name': 'tmbg', 'domain': (120, 210), 'linearbounds':(0,9), 'unit': 'min'},\n",
    "                 {'name': 'bg_fasting', 'domain': (100, 150), 'linearbounds':(0,9), 'unit': 'mg/dl'},\n",
    "                 {'name': 'insulin', 'domain': (0, ins_ceiling), 'linearbounds':(-9,0), 'unit': 'U'}]\n",
    "\n",
    "    bgl_model = BGL_MODEL(postBG_target_range=(bg_omin, bg_omax), postBG_target_value=postbg_target, variables=variables)\n",
    "    \n",
    "    for ind in range(len(data_init)):\n",
    "        new_x = np.array([[data_init.loc[ind,'meal']], [data_init.loc[ind,'tmbg']], [data_init.loc[ind,'bg_fasting']], [data_init.loc[ind,'insulin']]]).reshape(1,-1)\n",
    "        new_m = np.array([data_init.loc[ind,'bg_postprandial']]).reshape(-1,1)\n",
    "        bgl_model.update_lts(new_x, new_m)\n",
    "\n",
    "    return bgl_model"
   ]
  },
  {
   "cell_type": "code",
   "execution_count": null,
   "metadata": {
    "tags": []
   },
   "outputs": [],
   "source": [
    "num_train = 20  # num. of training events per patient to be used\n",
    "num_test = 20 # num. of test events per patient\n",
    "\n",
    "test_dict = {}  # dict to store test results for each patient\n",
    "\n",
    "for cur_patient in all_patients:\n",
    "\n",
    "    bgl_vals = np.load('./../calc_res_clinician_data/{}_calc_res.npy'.format(cur_patient))\n",
    "\n",
    "    df = pd.read_csv('./../Quest.csv')\n",
    "    cr = df.loc[df['Name']==cur_patient]['CR'].values[0] \n",
    "    cf = df.loc[df['Name']==cur_patient]['CF'].values[0]\n",
    "\n",
    "\n",
    "    train_data = pd.read_csv('./train_data/train_{}.csv'.format(cur_patient))\n",
    "    test_data = pd.read_csv('./test_data/test_{}.csv'.format(cur_patient))\n",
    "\n",
    "    bgl_model_salelts = create_model(train_data, ins_ceiling=ins_ceiling, postbg_target=postbg_target, bg_omin=70, bg_omax=180)\n",
    "\n",
    "    for i in range(num_test):\n",
    "        print('\\nPatient: {}, Meal Event: {}'.format(cur_patient, i + 1))\n",
    "\n",
    "        context={'meal': test_data['meal'][i],\n",
    "                 'tmbg': target_tmbg, \n",
    "                 'bg_fasting': test_data['bg_fasting'][i]}\n",
    "            \n",
    "        ins_calc = min(ins_ceiling, std_bolus_calc(cho=context['meal'], gm=context['bg_fasting'], gt=112.5, cr=cr, cf=cf))\n",
    "        ins_salelts = min(ins_ceiling, bgl_model_salelts.recommend(context, strategy='salelts', ins_calc=ins_calc, ins_ceiling=ins_ceiling, aux_ins=10, S=20, L=200, lam=0.1, exp_coeff=0.01))\n",
    "        ins_cli = min(ins_ceiling, clinician_recs[cur_patient][i])\n",
    "     \n",
    "        bgl_calculator = bgl_vals[i, int(ins_calc/ins_spacing)] + np.random.normal(loc=0, scale=sigma_noise)\n",
    "        bgl_salelts = bgl_vals[i, int(ins_salelts/ins_spacing)] + np.random.normal(loc=0, scale=sigma_noise)\n",
    "        bgl_cli = bgl_vals[i, int(ins_cli/ins_spacing)] + np.random.normal(loc=0, scale=sigma_noise)\n",
    "\n",
    "        test_data.loc[i,'insulin_calc'] = ins_calc\n",
    "        test_data.loc[i,'insulin_salelts'] = ins_salelts\n",
    "        test_data.loc[i,'insulin_cli'] = ins_cli\n",
    "        test_data.loc[i,'SALE-LTS'] = bgl_salelts\n",
    "        test_data.loc[i,'Calculator'] = bgl_calculator\n",
    "        test_data.loc[i,'Clinicians'] = bgl_cli\n",
    "\n",
    "    test_data.to_csv('./test_res/test_res_{}.csv'.format(cur_patient), index=False)\n",
    "    test_dict['{}'.format(cur_patient)] = test_data\n",
    "\n",
    "all_test = pd.concat(list(test_dict.values()), ignore_index=True)\n",
    "all_test.to_csv('./test_res/test_res.csv', index=False)"
   ]
  },
  {
   "cell_type": "code",
   "execution_count": null,
   "metadata": {},
   "outputs": [],
   "source": []
  }
 ],
 "metadata": {
  "kernelspec": {
   "display_name": "Python 3.8.8 ('base')",
   "language": "python",
   "name": "python3"
  },
  "language_info": {
   "codemirror_mode": {
    "name": "ipython",
    "version": 3
   },
   "file_extension": ".py",
   "mimetype": "text/x-python",
   "name": "python",
   "nbconvert_exporter": "python",
   "pygments_lexer": "ipython3",
   "version": "3.8.8"
  },
  "metadata": {
   "interpreter": {
    "hash": "c9a235104503eba9b41811f75e0830b678c0f7bdd39c1ef0ff43a730b0f2d559"
   }
  },
  "vscode": {
   "interpreter": {
    "hash": "40d3a090f54c6569ab1632332b64b2c03c39dcf918b08424e98f38b5ae0af88f"
   }
  }
 },
 "nbformat": 4,
 "nbformat_minor": 2
}
